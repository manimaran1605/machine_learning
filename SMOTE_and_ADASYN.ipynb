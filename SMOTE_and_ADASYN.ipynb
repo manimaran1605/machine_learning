{
 "cells": [
  {
   "cell_type": "code",
   "execution_count": 17,
   "id": "77640f43-ee9c-4a62-9053-a598a2822011",
   "metadata": {},
   "outputs": [],
   "source": [
    "from imblearn.over_sampling import SMOTE\n",
    "from sklearn.datasets import make_classification\n",
    "from collections import Counter\n",
    "import pandas as pd\n",
    "import matplotlib.pyplot as plt\n",
    "from imblearn.over_sampling import ADASYN\n",
    "from collections import Counter"
   ]
  },
  {
   "cell_type": "code",
   "execution_count": 3,
   "id": "6fc930fb-0410-4ce1-93df-e1e97c9d9745",
   "metadata": {},
   "outputs": [],
   "source": [
    "X, y = make_classification(n_classes=2, class_sep=2,\n",
    "                           weights=[0.9, 0.1], n_informative=3,\n",
    "                           n_redundant=1, flip_y=0, n_features=5,\n",
    "                           n_clusters_per_class=1, n_samples=1000, random_state=42)"
   ]
  },
  {
   "cell_type": "code",
   "execution_count": 15,
   "id": "4309af56-e311-4ae9-b189-49d730d90207",
   "metadata": {},
   "outputs": [
    {
     "name": "stdout",
     "output_type": "stream",
     "text": [
      "Original dataset shape: Counter({0: 900, 1: 100})\n",
      "Resampled dataset shape: Counter({0: 900, 1: 900})\n"
     ]
    }
   ],
   "source": [
    "print(\"Original dataset shape:\", Counter(y))\n",
    "\n",
    "smote = SMOTE(random_state=42)\n",
    "X_resampled, y_resampled = smote.fit_resample(X, y)\n",
    "\n",
    "print(\"Resampled dataset shape:\", Counter(y_resampled))"
   ]
  },
  {
   "cell_type": "code",
   "execution_count": 19,
   "id": "7b93c4d7-0fb1-43d4-9ac0-8af28a9a02f2",
   "metadata": {},
   "outputs": [
    {
     "name": "stdout",
     "output_type": "stream",
     "text": [
      "Original dataset shape: Counter({0: 900, 1: 100})\n",
      "Resampled dataset shape: Counter({0: 900, 1: 900})\n"
     ]
    }
   ],
   "source": [
    "print(\"Original dataset shape:\", Counter(y))\n",
    "\n",
    "adasyn = ADASYN(random_state=42)\n",
    "X_resampled, y_resampled = adasyn.fit_resample(X, y)\n",
    "\n",
    "print(\"Resampled dataset shape:\", Counter(y_resampled))"
   ]
  }
 ],
 "metadata": {
  "kernelspec": {
   "display_name": "Python [conda env:base] *",
   "language": "python",
   "name": "conda-base-py"
  },
  "language_info": {
   "codemirror_mode": {
    "name": "ipython",
    "version": 3
   },
   "file_extension": ".py",
   "mimetype": "text/x-python",
   "name": "python",
   "nbconvert_exporter": "python",
   "pygments_lexer": "ipython3",
   "version": "3.12.7"
  }
 },
 "nbformat": 4,
 "nbformat_minor": 5
}

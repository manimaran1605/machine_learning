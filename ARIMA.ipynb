{
 "cells": [
  {
   "cell_type": "code",
   "execution_count": 2,
   "id": "94f42287",
   "metadata": {},
   "outputs": [],
   "source": [
    "import pandas as pd\n",
    "import numpy as np\n",
    "from statsmodels.tsa.arima.model import ARIMA\n",
    "import matplotlib.pyplot as plt\n",
    "from statsmodels.tsa.arima.model import ARIMA\n",
    "from sklearn.metrics import mean_squared_error\n",
    "from math import sqrt\n",
    "from tqdm import tqdm"
   ]
  },
  {
   "cell_type": "code",
   "execution_count": 4,
   "id": "82fa9501",
   "metadata": {
    "scrolled": true
   },
   "outputs": [
    {
     "data": {
      "text/html": [
       "<div>\n",
       "<style scoped>\n",
       "    .dataframe tbody tr th:only-of-type {\n",
       "        vertical-align: middle;\n",
       "    }\n",
       "\n",
       "    .dataframe tbody tr th {\n",
       "        vertical-align: top;\n",
       "    }\n",
       "\n",
       "    .dataframe thead th {\n",
       "        text-align: right;\n",
       "    }\n",
       "</style>\n",
       "<table border=\"1\" class=\"dataframe\">\n",
       "  <thead>\n",
       "    <tr style=\"text-align: right;\">\n",
       "      <th></th>\n",
       "      <th>Open</th>\n",
       "      <th>High</th>\n",
       "      <th>Low</th>\n",
       "      <th>Close</th>\n",
       "      <th>Adj Close</th>\n",
       "      <th>Volume</th>\n",
       "    </tr>\n",
       "    <tr>\n",
       "      <th>Date</th>\n",
       "      <th></th>\n",
       "      <th></th>\n",
       "      <th></th>\n",
       "      <th></th>\n",
       "      <th></th>\n",
       "      <th></th>\n",
       "    </tr>\n",
       "  </thead>\n",
       "  <tbody>\n",
       "    <tr>\n",
       "      <th>2011-09-01</th>\n",
       "      <td>5394.5</td>\n",
       "      <td>5449.7</td>\n",
       "      <td>5346.7</td>\n",
       "      <td>5418.7</td>\n",
       "      <td>5418.7</td>\n",
       "      <td>975363800</td>\n",
       "    </tr>\n",
       "    <tr>\n",
       "      <th>2011-09-02</th>\n",
       "      <td>5418.7</td>\n",
       "      <td>5418.7</td>\n",
       "      <td>5258.5</td>\n",
       "      <td>5292.0</td>\n",
       "      <td>5292.0</td>\n",
       "      <td>823930000</td>\n",
       "    </tr>\n",
       "    <tr>\n",
       "      <th>2011-09-05</th>\n",
       "      <td>5292.0</td>\n",
       "      <td>5292.0</td>\n",
       "      <td>5097.7</td>\n",
       "      <td>5102.6</td>\n",
       "      <td>5102.6</td>\n",
       "      <td>788821300</td>\n",
       "    </tr>\n",
       "    <tr>\n",
       "      <th>2011-09-06</th>\n",
       "      <td>5102.6</td>\n",
       "      <td>5190.3</td>\n",
       "      <td>5086.8</td>\n",
       "      <td>5156.8</td>\n",
       "      <td>5156.8</td>\n",
       "      <td>946079100</td>\n",
       "    </tr>\n",
       "    <tr>\n",
       "      <th>2011-09-07</th>\n",
       "      <td>5156.8</td>\n",
       "      <td>5322.2</td>\n",
       "      <td>5156.8</td>\n",
       "      <td>5318.6</td>\n",
       "      <td>5318.6</td>\n",
       "      <td>837910500</td>\n",
       "    </tr>\n",
       "    <tr>\n",
       "      <th>...</th>\n",
       "      <td>...</td>\n",
       "      <td>...</td>\n",
       "      <td>...</td>\n",
       "      <td>...</td>\n",
       "      <td>...</td>\n",
       "      <td>...</td>\n",
       "    </tr>\n",
       "    <tr>\n",
       "      <th>2023-09-06</th>\n",
       "      <td>7437.9</td>\n",
       "      <td>7447.9</td>\n",
       "      <td>7369.6</td>\n",
       "      <td>7426.1</td>\n",
       "      <td>7426.1</td>\n",
       "      <td>448751100</td>\n",
       "    </tr>\n",
       "    <tr>\n",
       "      <th>2023-09-07</th>\n",
       "      <td>7426.1</td>\n",
       "      <td>7462.2</td>\n",
       "      <td>7385.9</td>\n",
       "      <td>7441.7</td>\n",
       "      <td>7441.7</td>\n",
       "      <td>456225400</td>\n",
       "    </tr>\n",
       "    <tr>\n",
       "      <th>2023-09-08</th>\n",
       "      <td>7441.7</td>\n",
       "      <td>7480.6</td>\n",
       "      <td>7402.1</td>\n",
       "      <td>7478.2</td>\n",
       "      <td>7478.2</td>\n",
       "      <td>651366100</td>\n",
       "    </tr>\n",
       "    <tr>\n",
       "      <th>2023-09-11</th>\n",
       "      <td>7478.2</td>\n",
       "      <td>7549.3</td>\n",
       "      <td>7467.4</td>\n",
       "      <td>7496.9</td>\n",
       "      <td>7496.9</td>\n",
       "      <td>568717300</td>\n",
       "    </tr>\n",
       "    <tr>\n",
       "      <th>2023-09-12</th>\n",
       "      <td>7478.2</td>\n",
       "      <td>7549.3</td>\n",
       "      <td>7467.4</td>\n",
       "      <td>7496.9</td>\n",
       "      <td>7496.9</td>\n",
       "      <td>568717300</td>\n",
       "    </tr>\n",
       "  </tbody>\n",
       "</table>\n",
       "<p>3139 rows × 6 columns</p>\n",
       "</div>"
      ],
      "text/plain": [
       "              Open    High     Low   Close  Adj Close     Volume\n",
       "Date                                                            \n",
       "2011-09-01  5394.5  5449.7  5346.7  5418.7     5418.7  975363800\n",
       "2011-09-02  5418.7  5418.7  5258.5  5292.0     5292.0  823930000\n",
       "2011-09-05  5292.0  5292.0  5097.7  5102.6     5102.6  788821300\n",
       "2011-09-06  5102.6  5190.3  5086.8  5156.8     5156.8  946079100\n",
       "2011-09-07  5156.8  5322.2  5156.8  5318.6     5318.6  837910500\n",
       "...            ...     ...     ...     ...        ...        ...\n",
       "2023-09-06  7437.9  7447.9  7369.6  7426.1     7426.1  448751100\n",
       "2023-09-07  7426.1  7462.2  7385.9  7441.7     7441.7  456225400\n",
       "2023-09-08  7441.7  7480.6  7402.1  7478.2     7478.2  651366100\n",
       "2023-09-11  7478.2  7549.3  7467.4  7496.9     7496.9  568717300\n",
       "2023-09-12  7478.2  7549.3  7467.4  7496.9     7496.9  568717300\n",
       "\n",
       "[3139 rows x 6 columns]"
      ]
     },
     "execution_count": 4,
     "metadata": {},
     "output_type": "execute_result"
    }
   ],
   "source": [
    "data = pd.read_excel(r\"C:\\Users\\Muthumanimaran\\Downloads\\TCS\\TCSQC\\FTSE100\\Forecasting.xlsx\",  sheet_name='^FTSE')\n",
    "df = pd.DataFrame(data)\n",
    "df['Date'] = pd.to_datetime(df['Date'])\n",
    "df.set_index('Date', inplace=True)\n",
    "df"
   ]
  },
  {
   "cell_type": "code",
   "execution_count": 36,
   "id": "8678a972",
   "metadata": {},
   "outputs": [
    {
     "data": {
      "text/plain": [
       "Date\n",
       "2011-09-01    5418.7\n",
       "2011-09-02    5292.0\n",
       "2011-09-05    5102.6\n",
       "2011-09-06    5156.8\n",
       "2011-09-07    5318.6\n",
       "               ...  \n",
       "2023-09-06    7426.1\n",
       "2023-09-07    7441.7\n",
       "2023-09-08    7478.2\n",
       "2023-09-11    7496.9\n",
       "2023-09-12    7496.9\n",
       "Name: Close, Length: 3139, dtype: float64"
      ]
     },
     "execution_count": 36,
     "metadata": {},
     "output_type": "execute_result"
    }
   ],
   "source": [
    "df['Close']"
   ]
  },
  {
   "cell_type": "code",
   "execution_count": 39,
   "id": "ff98f7f9",
   "metadata": {
    "scrolled": true
   },
   "outputs": [
    {
     "name": "stderr",
     "output_type": "stream",
     "text": [
      "100%|██████████████████████████████████████████████████████████████████████████████| 1068/1068 [09:08<00:00,  1.95it/s]"
     ]
    },
    {
     "name": "stdout",
     "output_type": "stream",
     "text": [
      "Test RMSE: 76.354\n"
     ]
    },
    {
     "name": "stderr",
     "output_type": "stream",
     "text": [
      "\n"
     ]
    }
   ],
   "source": [
    "X = df['Open']\n",
    "size = int(len(X) * 0.66)\n",
    "train, test = X[0:size], X[size:len(X)]\n",
    "history = [x for x in train]\n",
    "predictions = list()\n",
    "# walk-forward validation\n",
    "for t in tqdm(range(len(test))):\n",
    "    model = ARIMA(history, order=(5,1,0))\n",
    "    model_fit = model.fit()\n",
    "    output = model_fit.forecast()\n",
    "    yhat = output[0]\n",
    "    predictions.append(yhat)\n",
    "    obs = test[t]\n",
    "    history.append(obs)\n",
    "    #print('predicted=%f, expected=%f' % (yhat, obs))\n",
    "# evaluate forecasts\n",
    "rmse = sqrt(mean_squared_error(test, predictions))\n",
    "print('Test RMSE: %.3f' % rmse)\n"
   ]
  },
  {
   "cell_type": "code",
   "execution_count": 48,
   "id": "e7d2da4e",
   "metadata": {},
   "outputs": [
    {
     "data": {
      "image/png": "[encoded data removed]",
      "text/plain": [
       "<Figure size 640x480 with 1 Axes>"
      ]
     },
     "metadata": {},
     "output_type": "display_data"
    }
   ],
   "source": [
    "# plot forecasts against actual outcomes\n",
    "plt.plot(test, color = 'blue')\n",
    "plt.plot(test.index, predictions, color='yellow', alpha = 0.5)\n",
    "plt.show()"
   ]
  }
 ],
 "metadata": {
  "kernelspec": {
   "display_name": "Python 3 (ipykernel)",
   "language": "python",
   "name": "python3"
  },
  "language_info": {
   "codemirror_mode": {
    "name": "ipython",
    "version": 3
   },
   "file_extension": ".py",
   "mimetype": "text/x-python",
   "name": "python",
   "nbconvert_exporter": "python",
   "pygments_lexer": "ipython3",
   "version": "3.9.13"
  }
 },
 "nbformat": 4,
 "nbformat_minor": 5
}
